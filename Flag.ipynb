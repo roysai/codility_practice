{
 "cells": [
  {
   "cell_type": "code",
   "execution_count": 20,
   "metadata": {
    "collapsed": false
   },
   "outputs": [],
   "source": [
    "def solution (A):\n",
    "    peak=[]\n",
    "    for i in range(1,len(A)-1):\n",
    "        if A[i]>A[i-1] and A[i]>A[i+1]:\n",
    "            peak.append(i)\n",
    "    \n",
    "    max_count=0\n",
    "\n",
    "def count_flag(P):\n",
    "    #if we can plant K flag, we certainly can plant K- flag\n",
    "    \n",
    "    pass"
   ]
  },
  {
   "cell_type": "code",
   "execution_count": 21,
   "metadata": {
    "collapsed": true
   },
   "outputs": [],
   "source": [
    "A=[1,5,3,4,3,4,1,2,3,4,6,2]"
   ]
  },
  {
   "cell_type": "code",
   "execution_count": 22,
   "metadata": {
    "collapsed": false
   },
   "outputs": [],
   "source": [
    "B=[1,10,12,14,16,18]"
   ]
  },
  {
   "cell_type": "code",
   "execution_count": 23,
   "metadata": {
    "collapsed": false
   },
   "outputs": [
    {
     "name": "stdout",
     "output_type": "stream",
     "text": [
      "2     2 10\n",
      "3     2 10\n",
      "4     2 10\n",
      "5     2 10\n",
      "[2, 3, 4, 5]\n"
     ]
    }
   ],
   "source": [
    "count_flag(B)"
   ]
  },
  {
   "cell_type": "code",
   "execution_count": null,
   "metadata": {
    "collapsed": true
   },
   "outputs": [],
   "source": []
  }
 ],
 "metadata": {
  "kernelspec": {
   "display_name": "Python 3",
   "language": "python",
   "name": "python3"
  },
  "language_info": {
   "codemirror_mode": {
    "name": "ipython",
    "version": 3
   },
   "file_extension": ".py",
   "mimetype": "text/x-python",
   "name": "python",
   "nbconvert_exporter": "python",
   "pygments_lexer": "ipython3",
   "version": "3.6.0"
  }
 },
 "nbformat": 4,
 "nbformat_minor": 2
}
