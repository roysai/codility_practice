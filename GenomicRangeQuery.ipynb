{
 "cells": [
  {
   "cell_type": "code",
   "execution_count": 56,
   "metadata": {
    "collapsed": false
   },
   "outputs": [],
   "source": [
    "genomic={'A':1,\n",
    "        'C':2,\n",
    "        'G':3,\n",
    "        'T':4}\n",
    "\n",
    "def solution(S, P, Q):\n",
    "    # write your code in Python 3.6\n",
    "    #for list of number from S\n",
    "    seq=[genomic[s] for s in S]+[0]\n",
    "    \n",
    "    min_impact=[0]*len(P)\n",
    "    \n",
    "    for i in range(len(P)):\n",
    "        sub_seq=seq[P[i]:Q[i]+1]\n",
    "        if len(sub_seq)==0:\n",
    "            continue\n",
    "        min_impact[i]=min(sub_seq)\n",
    "    return min_impact\n",
    "\n",
    "def solution_2(S, P, Q):\n",
    "    # write your code in Python 3.6\n",
    "        \n",
    "    min_impact=[0]*len(P)\n",
    "    S=S+'0'\n",
    "    for i in range(len(P)):\n",
    "        impact=10\n",
    "        sub_seq=S[P[i]:Q[i]+1]\n",
    "        #print (sub_seq)\n",
    "        \n",
    "        if len(sub_seq)==0:\n",
    "            continue\n",
    "        for j in range(len(sub_seq)):\n",
    "            impact=min(genomic[sub_seq[j]], impact)\n",
    "            if impact==1:\n",
    "                break\n",
    "        #print (impact)\n",
    "        min_impact[i]=impact\n",
    "                \n",
    "            \n",
    "    return min_impact\n",
    "            \n",
    "            \n",
    "def solution_3(S, P, Q):\n",
    "    min_impact=[0]*len(P)\n",
    "    S=S+'0'\n",
    "    for i in range (len(P)):\n",
    "        impact=10\n",
    "        sub_seq=S[P[i]:Q[i]+1]\n",
    "        \n",
    "        if 'A' in sub_seq:\n",
    "            min_impact[i]=1\n",
    "            \n",
    "        elif 'C' in sub_seq:\n",
    "            min_impact[i]=2\n",
    "            \n",
    "        elif 'G' in sub_seq:\n",
    "            min_impact[i]=3\n",
    "            \n",
    "        else:\n",
    "            min_impact[i]=4\n",
    "    \n",
    "    return min_impact\n",
    "            \n",
    "        \n"
   ]
  },
  {
   "cell_type": "code",
   "execution_count": 53,
   "metadata": {
    "collapsed": false
   },
   "outputs": [
    {
     "name": "stdout",
     "output_type": "stream",
     "text": [
      "[2, 4, 1]\n"
     ]
    }
   ],
   "source": [
    "S= 'CAGCCTA'\n",
    "P=[2,5,0]\n",
    "Q=[4,5,6]\n",
    "ans=solution_2 (S, P, Q)\n",
    "print(ans)"
   ]
  },
  {
   "cell_type": "code",
   "execution_count": 57,
   "metadata": {
    "collapsed": false
   },
   "outputs": [
    {
     "name": "stdout",
     "output_type": "stream",
     "text": [
      "2.520719051361084\n",
      "0.031250715255737305\n",
      "0.0\n"
     ]
    }
   ],
   "source": [
    "import time\n",
    "S= 'G'*10000000\n",
    "P=[0]\n",
    "Q=[10000-1]\n",
    "start=time.time()\n",
    "solution(S, P, Q)\n",
    "print (time.time()-start)\n",
    "\n",
    "start=time.time()\n",
    "solution_2(S, P, Q)\n",
    "print (time.time()-start)\n",
    "\n",
    "start=time.time()\n",
    "solution_3(S, P, Q)\n",
    "print (time.time()-start)"
   ]
  },
  {
   "cell_type": "code",
   "execution_count": 11,
   "metadata": {
    "collapsed": false
   },
   "outputs": [
    {
     "data": {
      "text/plain": [
       "[1, 2, 3]"
      ]
     },
     "execution_count": 11,
     "metadata": {},
     "output_type": "execute_result"
    }
   ],
   "source": [
    "a=[1,2,3,4]\n",
    "a[0:3]"
   ]
  },
  {
   "cell_type": "code",
   "execution_count": null,
   "metadata": {
    "collapsed": true
   },
   "outputs": [],
   "source": []
  }
 ],
 "metadata": {
  "kernelspec": {
   "display_name": "Python 3",
   "language": "python",
   "name": "python3"
  },
  "language_info": {
   "codemirror_mode": {
    "name": "ipython",
    "version": 3
   },
   "file_extension": ".py",
   "mimetype": "text/x-python",
   "name": "python",
   "nbconvert_exporter": "python",
   "pygments_lexer": "ipython3",
   "version": "3.6.0"
  }
 },
 "nbformat": 4,
 "nbformat_minor": 2
}
