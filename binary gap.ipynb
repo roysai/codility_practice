{
 "cells": [
  {
   "cell_type": "code",
   "execution_count": 1,
   "metadata": {
    "collapsed": true
   },
   "outputs": [],
   "source": [
    "import random"
   ]
  },
  {
   "cell_type": "code",
   "execution_count": 28,
   "metadata": {
    "collapsed": false
   },
   "outputs": [
    {
     "data": {
      "text/plain": [
       "15574"
      ]
     },
     "execution_count": 28,
     "metadata": {},
     "output_type": "execute_result"
    }
   ],
   "source": [
    "n=random.randint(0,100000)\n",
    "n"
   ]
  },
  {
   "cell_type": "code",
   "execution_count": 83,
   "metadata": {
    "collapsed": false,
    "scrolled": false
   },
   "outputs": [
    {
     "name": "stdout",
     "output_type": "stream",
     "text": [
      "end of loop\n",
      "0 11 6\n"
     ]
    }
   ],
   "source": [
    "def find_gap(N, start):\n",
    "    gap=0\n",
    "    end=start\n",
    "    for i in range (start+1, len(N)):\n",
    "        #print (i==len(N)-1, N[i]=='0')\n",
    "        if N[i]=='0' and i==len(N)-1:\n",
    "            gap=0\n",
    "            end=len(N)\n",
    "            print ('end of loop')\n",
    "            break\n",
    "        elif N[i]=='0':\n",
    "            gap=gap+1\n",
    "        else:\n",
    "            end=i\n",
    "            break\n",
    "    return gap, end\n",
    "        \n",
    "end=0\n",
    "start=0\n",
    "longest_gap=0\n",
    "while end!=len(N):\n",
    "    #print (start)\n",
    "    gap, end=find_gap(N, start)\n",
    "    start=end\n",
    "    if gap>longest_gap:\n",
    "        longest_gap=gap\n",
    "print (gap, end, longest_gap)\n",
    "#print (longest_gap)\n",
    "        \n",
    "        "
   ]
  },
  {
   "cell_type": "code",
   "execution_count": 103,
   "metadata": {
    "collapsed": false,
    "scrolled": true
   },
   "outputs": [],
   "source": [
    "def solution(N):\n",
    "    # write your code in Python 3.6\n",
    "    #convert number to binary string\n",
    "    N=oct_to_bin(N)\n",
    "    #print (N)\n",
    "    end=0\n",
    "    start=0\n",
    "    longest_gap=0\n",
    "    while end!=len(N):\n",
    "        gap, end=find_gap(N, start)\n",
    "        start=end\n",
    "        if gap>longest_gap:\n",
    "            longest_gap=gap\n",
    "        #i=i+1\n",
    "    #print (gap, end, longest_gap)\n",
    "    return longest_gap\n",
    "\n",
    "def oct_to_bin(N):\n",
    "    return str(bin(N))[2:]\n",
    "\n",
    "def find_gap(N, start):\n",
    "    gap=0\n",
    "    end=start\n",
    "    for i in range (start+1, len(N)):\n",
    "        #print (i, i==len(N)-1, N[i]=='0')\n",
    "        if N[i]=='0' and i==len(N)-1:\n",
    "            gap=0\n",
    "            end=len(N)\n",
    "            #print ('end of loop')\n",
    "            break\n",
    "        elif N[i]=='1' and i==len(N)-1:\n",
    "            end=len(N)\n",
    "            #print ('end of loop')\n",
    "        elif N[i]=='0':\n",
    "            gap=gap+1\n",
    "        else:\n",
    "            end=i\n",
    "            #print ('found gap')\n",
    "            break\n",
    "    return gap, end\n"
   ]
  },
  {
   "cell_type": "code",
   "execution_count": 105,
   "metadata": {
    "collapsed": false
   },
   "outputs": [
    {
     "name": "stdout",
     "output_type": "stream",
     "text": [
      "8\n"
     ]
    }
   ],
   "source": [
    "print (solution (513))"
   ]
  },
  {
   "cell_type": "code",
   "execution_count": 96,
   "metadata": {
    "collapsed": false
   },
   "outputs": [
    {
     "name": "stdout",
     "output_type": "stream",
     "text": [
      "11\n"
     ]
    }
   ],
   "source": [
    "print (end)"
   ]
  },
  {
   "cell_type": "code",
   "execution_count": 97,
   "metadata": {
    "collapsed": false
   },
   "outputs": [
    {
     "data": {
      "text/plain": [
       "11"
      ]
     },
     "execution_count": 97,
     "metadata": {},
     "output_type": "execute_result"
    }
   ],
   "source": [
    "len('10000010001')"
   ]
  },
  {
   "cell_type": "code",
   "execution_count": null,
   "metadata": {
    "collapsed": true
   },
   "outputs": [],
   "source": []
  }
 ],
 "metadata": {
  "kernelspec": {
   "display_name": "Python 3",
   "language": "python",
   "name": "python3"
  },
  "language_info": {
   "codemirror_mode": {
    "name": "ipython",
    "version": 3
   },
   "file_extension": ".py",
   "mimetype": "text/x-python",
   "name": "python",
   "nbconvert_exporter": "python",
   "pygments_lexer": "ipython3",
   "version": "3.6.0"
  }
 },
 "nbformat": 4,
 "nbformat_minor": 2
}
