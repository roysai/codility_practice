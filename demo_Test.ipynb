{
 "cells": [
  {
   "cell_type": "code",
   "execution_count": 86,
   "metadata": {
    "collapsed": false
   },
   "outputs": [
    {
     "name": "stdout",
     "output_type": "stream",
     "text": [
      "193\n"
     ]
    },
    {
     "data": {
      "text/plain": [
       "193"
      ]
     },
     "execution_count": 86,
     "metadata": {},
     "output_type": "execute_result"
    }
   ],
   "source": [
    "import random\n",
    "\n",
    "A=list(range(200))\n",
    "random.shuffle(A)\n",
    "print (A[-1])\n",
    "A.pop()"
   ]
  },
  {
   "cell_type": "code",
   "execution_count": 109,
   "metadata": {
    "collapsed": false
   },
   "outputs": [],
   "source": [
    "def solution(A):\n",
    "    A=list(set(A))\n",
    "    A.sort()\n",
    "\n",
    "    if A[-1]<0:\n",
    "        return 1\n",
    "    \n",
    "    \n",
    "    #while len(A)>=5:\n",
    "        #print (A[mid], mid)\n",
    "    for i in range (10):\n",
    "        mid=len(A)//2\n",
    "        \n",
    "        \n",
    "        if A[mid-1]==mid+A[0]-1:\n",
    "            A=A[mid-1:]\n",
    "        else: \n",
    "            A=A[0:mid+1]\n",
    "    \n",
    "    for i in range (len(A)-1):\n",
    "        #print (A[i], A[i+1])\n",
    "        #print (A, i, A[i+1]-A[i]>1)\n",
    "        if A[i+1]-A[i]>1:\n",
    "            return A[i]+1\n",
    "    return A[i+1]+1\n",
    "            \n",
    "\n",
    "def solution_2(A):\n",
    "    counter=[0]*len(A)\n",
    "    \n",
    "    for num in A:\n",
    "        if num<=0 or num>len(A):\n",
    "            continue\n",
    "        \n",
    "        counter[num-1]=1\n",
    "    counter+=[0]\n",
    "    smallest=counter.index(0)\n",
    "    return smallest+1"
   ]
  },
  {
   "cell_type": "code",
   "execution_count": 112,
   "metadata": {
    "collapsed": false
   },
   "outputs": [
    {
     "data": {
      "text/plain": [
       "1"
      ]
     },
     "execution_count": 112,
     "metadata": {},
     "output_type": "execute_result"
    }
   ],
   "source": [
    "A=[20]\n",
    "solution_2(A)"
   ]
  },
  {
   "cell_type": "code",
   "execution_count": 108,
   "metadata": {
    "collapsed": true
   },
   "outputs": [],
   "source": [
    "A=[2]"
   ]
  },
  {
   "cell_type": "code",
   "execution_count": null,
   "metadata": {
    "collapsed": true
   },
   "outputs": [],
   "source": []
  }
 ],
 "metadata": {
  "kernelspec": {
   "display_name": "Python 3",
   "language": "python",
   "name": "python3"
  },
  "language_info": {
   "codemirror_mode": {
    "name": "ipython",
    "version": 3
   },
   "file_extension": ".py",
   "mimetype": "text/x-python",
   "name": "python",
   "nbconvert_exporter": "python",
   "pygments_lexer": "ipython3",
   "version": "3.6.0"
  }
 },
 "nbformat": 4,
 "nbformat_minor": 2
}
