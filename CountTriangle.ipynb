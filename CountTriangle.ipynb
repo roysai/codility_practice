{
 "cells": [
  {
   "cell_type": "code",
   "execution_count": 1,
   "metadata": {
    "collapsed": true
   },
   "outputs": [],
   "source": [
    "A=[10,2,5,1,8,12]"
   ]
  },
  {
   "cell_type": "code",
   "execution_count": null,
   "metadata": {
    "collapsed": true
   },
   "outputs": [],
   "source": [
    "def solution (A):\n",
    "    A.sort()\n",
    "    caterpillar=A[:2]\n",
    "    for i in range (2, len(A)):\n",
    "        if A[0]+A[1]>=A[i]:\n",
    "            caterpillar.append(A[i])\n",
    "        elif A[0]+A[1]<A[i]:\n",
    "            caterpillar.pop(0)"
   ]
  }
 ],
 "metadata": {
  "kernelspec": {
   "display_name": "Python 3",
   "language": "python",
   "name": "python3"
  },
  "language_info": {
   "codemirror_mode": {
    "name": "ipython",
    "version": 3
   },
   "file_extension": ".py",
   "mimetype": "text/x-python",
   "name": "python",
   "nbconvert_exporter": "python",
   "pygments_lexer": "ipython3",
   "version": "3.6.0"
  }
 },
 "nbformat": 4,
 "nbformat_minor": 2
}
