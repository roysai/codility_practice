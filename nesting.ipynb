{
 "cells": [
  {
   "cell_type": "code",
   "execution_count": 17,
   "metadata": {
    "collapsed": true
   },
   "outputs": [],
   "source": [
    "def solution (S):\n",
    "    counter=0\n",
    "    if len(S)==0:\n",
    "        return 1\n",
    "    for i in range (len(S)):\n",
    "        if S[i]=='(':\n",
    "            counter+=1\n",
    "        else:\n",
    "            counter-=1\n",
    "        \n",
    "        #print (counter)\n",
    "        if counter<0:\n",
    "            return 0\n",
    "    if counter==0:\n",
    "        return 1\n",
    "    else: \n",
    "        return 0"
   ]
  },
  {
   "cell_type": "code",
   "execution_count": 22,
   "metadata": {
    "collapsed": false
   },
   "outputs": [
    {
     "name": "stdout",
     "output_type": "stream",
     "text": [
      "1\n",
      "0.0839090347290039\n"
     ]
    }
   ],
   "source": [
    "import time\n",
    "\n",
    "\n",
    "S='()'*int(1e5)\n",
    "start=time.time()\n",
    "print (solution (S))\n",
    "print (time.time()-start)"
   ]
  },
  {
   "cell_type": "code",
   "execution_count": null,
   "metadata": {
    "collapsed": true
   },
   "outputs": [],
   "source": []
  },
  {
   "cell_type": "code",
   "execution_count": null,
   "metadata": {
    "collapsed": true
   },
   "outputs": [],
   "source": []
  }
 ],
 "metadata": {
  "kernelspec": {
   "display_name": "Python 3",
   "language": "python",
   "name": "python3"
  },
  "language_info": {
   "codemirror_mode": {
    "name": "ipython",
    "version": 3
   },
   "file_extension": ".py",
   "mimetype": "text/x-python",
   "name": "python",
   "nbconvert_exporter": "python",
   "pygments_lexer": "ipython3",
   "version": "3.6.0"
  }
 },
 "nbformat": 4,
 "nbformat_minor": 2
}
