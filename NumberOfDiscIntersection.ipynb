{
 "cells": [
  {
   "cell_type": "code",
   "execution_count": 21,
   "metadata": {
    "collapsed": false
   },
   "outputs": [],
   "source": [
    "   \n",
    "\n",
    "def solution (A):\n",
    "    leftPoint=[0]*len(A)\n",
    "    rightPoint=[0]*len(A)\n",
    "    \n",
    "    for i, radius in enumerate(A):\n",
    "        leftPoint[i]=i-radius\n",
    "        rightPoint[i]=i+radius\n",
    "    #print (leftPoint)\n",
    "    #print (rightPoint)\n",
    "    \n",
    "    intersected=[0]*len(A)\n",
    "    count=0\n",
    "    \n",
    "    for i in range(len(A)):\n",
    "        \n",
    "        for j in range (i+1, len(A)):\n",
    "            if ((leftPoint[i]<=leftPoint[j] and rightPoint[i]>=leftPoint[j]) or \n",
    "                (leftPoint[i]<=rightPoint[j] and rightPoint[i]>=rightPoint[j]) or \n",
    "               (leftPoint[i]<=rightPoint[j] and leftPoint[i]>=leftPoint[j])\n",
    "               ):\n",
    "                count+=1\n",
    "                #print ([i, j])\n",
    "            if count>10000000:\n",
    "                return -1\n",
    "    return count\n",
    "    \n",
    "def solution_2(A):\n",
    "    leftPoint=[0]*len(A)\n",
    "    rightPoint=[0]*len(A)\n",
    "    idx=list(range(len(A)))\n",
    "    \n",
    "    for i, radius in enumerate(A):\n",
    "        leftPoint[i]=i-radius\n",
    "        rightPoint[i]=i+radius\n",
    "    return leftPoint, rightPoint, idx\n",
    "    "
   ]
  },
  {
   "cell_type": "code",
   "execution_count": 23,
   "metadata": {
    "collapsed": false
   },
   "outputs": [
    {
     "name": "stdout",
     "output_type": "stream",
     "text": [
      "0.0039997100830078125\n"
     ]
    }
   ],
   "source": [
    "import time\n",
    "\n",
    "A=[1]*100\n",
    "\n",
    "start=time.time()\n",
    "solution(A)\n",
    "print (time.time()-start)"
   ]
  },
  {
   "cell_type": "code",
   "execution_count": 39,
   "metadata": {
    "collapsed": false
   },
   "outputs": [],
   "source": [
    "A=[1,5,2,1,4,0]\n",
    "leftPoint, rightPoint, idx=solution_2(A)\n",
    "sorted_left=leftPoint.sort()\n",
    "sorted_right=rightPoint.sort()\n",
    "idx_left =[x for _, x in sorted(zip(leftPoint, idx))]\n",
    "idx_right=[x for _, x in sorted(zip(rightPoint, idx))]"
   ]
  },
  {
   "cell_type": "code",
   "execution_count": 28,
   "metadata": {
    "collapsed": false
   },
   "outputs": [
    {
     "data": {
      "text/plain": [
       "[0, 1, 2, 3, 4, 5]"
      ]
     },
     "execution_count": 28,
     "metadata": {},
     "output_type": "execute_result"
    }
   ],
   "source": [
    "idx"
   ]
  },
  {
   "cell_type": "code",
   "execution_count": 36,
   "metadata": {
    "collapsed": false
   },
   "outputs": [
    {
     "name": "stdout",
     "output_type": "stream",
     "text": [
      "[0, 1, 2, 3, 4, 5, 6, 7, 8, 9, 5, 5, 5]\n",
      "[0, 1, 2, 3, 4, 6, 7, 8, 9, 5, 5, 5]\n"
     ]
    }
   ],
   "source": [
    "A=list(range(10))+[5,5,5]\n",
    "print (A)\n",
    "A.remove(5)\n",
    "print (A)"
   ]
  },
  {
   "cell_type": "code",
   "execution_count": null,
   "metadata": {
    "collapsed": true
   },
   "outputs": [],
   "source": []
  }
 ],
 "metadata": {
  "kernelspec": {
   "display_name": "Python 3",
   "language": "python",
   "name": "python3"
  },
  "language_info": {
   "codemirror_mode": {
    "name": "ipython",
    "version": 3
   },
   "file_extension": ".py",
   "mimetype": "text/x-python",
   "name": "python",
   "nbconvert_exporter": "python",
   "pygments_lexer": "ipython3",
   "version": "3.6.0"
  }
 },
 "nbformat": 4,
 "nbformat_minor": 2
}
