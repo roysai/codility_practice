{
 "cells": [
  {
   "cell_type": "code",
   "execution_count": 1,
   "metadata": {
    "collapsed": true
   },
   "outputs": [],
   "source": [
    "def solution(A):\n",
    "    # write your code in Python 3.6\n",
    "    pass"
   ]
  },
  {
   "cell_type": "code",
   "execution_count": 80,
   "metadata": {
    "collapsed": false
   },
   "outputs": [
    {
     "name": "stdout",
     "output_type": "stream",
     "text": [
      "1543109\n"
     ]
    }
   ],
   "source": [
    "import random\n",
    "a=list(range(1, 2000000))\n",
    "random.shuffle(a)\n",
    "B=a[:-1]\n",
    "print (a[-1])"
   ]
  },
  {
   "cell_type": "code",
   "execution_count": 118,
   "metadata": {
    "collapsed": false
   },
   "outputs": [
    {
     "data": {
      "text/plain": [
       "2"
      ]
     },
     "execution_count": 118,
     "metadata": {},
     "output_type": "execute_result"
    }
   ],
   "source": [
    "def check_half(A):\n",
    "    m=len(A)\n",
    "    if m%2==1:\n",
    "        median=int(m/2+1)\n",
    "    else:\n",
    "        median=int(m/2)\n",
    "        \n",
    "    #print (A[median], A[0]+median)\n",
    "    if A[median]==A[0]+median:\n",
    "        #print ('lower half')\n",
    "        A=A[median-1:]\n",
    "    else:\n",
    "        #print ('upper half')\n",
    "        A=A[:median+1]\n",
    "    \n",
    "    return A\n",
    "\n",
    "def solution (A):\n",
    "    \n",
    "    #A=B.copy()\n",
    "    #A=[2, 3, 1, 5]\n",
    "    A.sort()\n",
    "\n",
    "    m=len(A)\n",
    "    missing=None\n",
    "    if A[0]!=1:\n",
    "        missing=1\n",
    "        return missing\n",
    "    while len(A)>5:\n",
    "        A=check_half(A)\n",
    "    \n",
    "    \n",
    "    \n",
    "    else:\n",
    "        for i, num in enumerate(A[:-1]):\n",
    "            if A[i+1]-num==2:\n",
    "                missing=num+1\n",
    "                break\n",
    "    if missing==None:\n",
    "        missing=A[-1]+1\n",
    "    #print ('missing number is ', missing)\n",
    "    return missing\n",
    "    \n",
    "    \n",
    "       \n",
    "solution ([1,3])\n",
    "\n",
    "    \n"
   ]
  },
  {
   "cell_type": "code",
   "execution_count": 111,
   "metadata": {
    "collapsed": false
   },
   "outputs": [
    {
     "data": {
      "text/plain": [
       "[2,\n",
       " 3,\n",
       " 4,\n",
       " 5,\n",
       " 6,\n",
       " 7,\n",
       " 8,\n",
       " 9,\n",
       " 10,\n",
       " 11,\n",
       " 12,\n",
       " 13,\n",
       " 14,\n",
       " 15,\n",
       " 16,\n",
       " 17,\n",
       " 18,\n",
       " 19,\n",
       " 20,\n",
       " 21,\n",
       " 22,\n",
       " 23,\n",
       " 24,\n",
       " 25,\n",
       " 26,\n",
       " 27,\n",
       " 28,\n",
       " 29,\n",
       " 30,\n",
       " 31,\n",
       " 32,\n",
       " 33,\n",
       " 34,\n",
       " 35,\n",
       " 36,\n",
       " 37,\n",
       " 38,\n",
       " 39,\n",
       " 40,\n",
       " 41,\n",
       " 42,\n",
       " 43,\n",
       " 44,\n",
       " 45,\n",
       " 46,\n",
       " 47,\n",
       " 48,\n",
       " 49]"
      ]
     },
     "execution_count": 111,
     "metadata": {},
     "output_type": "execute_result"
    }
   ],
   "source": [
    "list(range(2,50))"
   ]
  },
  {
   "cell_type": "code",
   "execution_count": null,
   "metadata": {
    "collapsed": true
   },
   "outputs": [],
   "source": []
  }
 ],
 "metadata": {
  "kernelspec": {
   "display_name": "Python 3",
   "language": "python",
   "name": "python3"
  },
  "language_info": {
   "codemirror_mode": {
    "name": "ipython",
    "version": 3
   },
   "file_extension": ".py",
   "mimetype": "text/x-python",
   "name": "python",
   "nbconvert_exporter": "python",
   "pygments_lexer": "ipython3",
   "version": "3.6.0"
  }
 },
 "nbformat": 4,
 "nbformat_minor": 2
}
