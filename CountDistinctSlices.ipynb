{
 "cells": [
  {
   "cell_type": "code",
   "execution_count": 1,
   "metadata": {
    "collapsed": true
   },
   "outputs": [],
   "source": [
    "A=[3,4,5,5,2]\n",
    "M=6\n"
   ]
  },
  {
   "cell_type": "code",
   "execution_count": 8,
   "metadata": {
    "collapsed": false
   },
   "outputs": [],
   "source": [
    "def solution (M, A):\n",
    "    seen=[False]*(M+1)\n",
    "    front=back=0\n",
    "    count=0\n",
    "    L=len(A)\n",
    "    while (front<L and back<L):\n",
    "        while (front <L and seen[A[front]]==False):\n",
    "            count += (front-back+1)\n",
    "            seen[A[front]]=True\n",
    "            front +=1\n",
    "        else:\n",
    "            while (front <L and back<L and A[back]!=A[front]):\n",
    "                seen[A[back]]=False\n",
    "                back+=1\n",
    "            seen[A[back]]=False\n",
    "            back+=1\n",
    "    return min(100000000, count)\n",
    "\n",
    "            "
   ]
  },
  {
   "cell_type": "code",
   "execution_count": 9,
   "metadata": {
    "collapsed": false
   },
   "outputs": [
    {
     "data": {
      "text/plain": [
       "9"
      ]
     },
     "execution_count": 9,
     "metadata": {},
     "output_type": "execute_result"
    }
   ],
   "source": [
    "solution (A, M)"
   ]
  },
  {
   "cell_type": "code",
   "execution_count": null,
   "metadata": {
    "collapsed": true
   },
   "outputs": [],
   "source": []
  }
 ],
 "metadata": {
  "kernelspec": {
   "display_name": "Python 3",
   "language": "python",
   "name": "python3"
  },
  "language_info": {
   "codemirror_mode": {
    "name": "ipython",
    "version": 3
   },
   "file_extension": ".py",
   "mimetype": "text/x-python",
   "name": "python",
   "nbconvert_exporter": "python",
   "pygments_lexer": "ipython3",
   "version": "3.6.0"
  }
 },
 "nbformat": 4,
 "nbformat_minor": 2
}
