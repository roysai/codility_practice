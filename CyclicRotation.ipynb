{
 "cells": [
  {
   "cell_type": "code",
   "execution_count": 37,
   "metadata": {
    "collapsed": true
   },
   "outputs": [],
   "source": [
    "A = [0, 0, 9, 7, 6]\n",
    "B=A.copy()"
   ]
  },
  {
   "cell_type": "code",
   "execution_count": 38,
   "metadata": {
    "collapsed": false
   },
   "outputs": [],
   "source": [
    "def rotate(A, n):\n",
    "    n=n%len(A)\n",
    "    remain=A[:-n]\n",
    "    rotated=A[-n:]\n",
    "    #print (remain, rotated)\n",
    "    return rotated+remain"
   ]
  },
  {
   "cell_type": "code",
   "execution_count": 39,
   "metadata": {
    "collapsed": false
   },
   "outputs": [
    {
     "name": "stdout",
     "output_type": "stream",
     "text": [
      "1 [6, 0, 0, 9, 7]\n",
      "2 [7, 6, 0, 0, 9]\n",
      "3 [9, 7, 6, 0, 0]\n",
      "4 [0, 9, 7, 6, 0]\n",
      "5 [0, 0, 9, 7, 6]\n",
      "6 [6, 0, 0, 9, 7]\n",
      "7 [7, 6, 0, 0, 9]\n",
      "8 [9, 7, 6, 0, 0]\n",
      "9 [0, 9, 7, 6, 0]\n",
      "10 [0, 0, 9, 7, 6]\n"
     ]
    }
   ],
   "source": [
    "for i in range (10):\n",
    "    A=rotate(A,1)\n",
    "    print (i+1, A)"
   ]
  },
  {
   "cell_type": "code",
   "execution_count": 40,
   "metadata": {
    "collapsed": false
   },
   "outputs": [
    {
     "data": {
      "text/plain": [
       "[9, 7, 6, 0, 0]"
      ]
     },
     "execution_count": 40,
     "metadata": {},
     "output_type": "execute_result"
    }
   ],
   "source": [
    "rotate(B, 8)"
   ]
  },
  {
   "cell_type": "code",
   "execution_count": null,
   "metadata": {
    "collapsed": true
   },
   "outputs": [],
   "source": []
  }
 ],
 "metadata": {
  "kernelspec": {
   "display_name": "Python 3",
   "language": "python",
   "name": "python3"
  },
  "language_info": {
   "codemirror_mode": {
    "name": "ipython",
    "version": 3
   },
   "file_extension": ".py",
   "mimetype": "text/x-python",
   "name": "python",
   "nbconvert_exporter": "python",
   "pygments_lexer": "ipython3",
   "version": "3.6.0"
  }
 },
 "nbformat": 4,
 "nbformat_minor": 2
}
