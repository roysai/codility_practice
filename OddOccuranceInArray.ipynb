{
 "cells": [
  {
   "cell_type": "code",
   "execution_count": 1,
   "metadata": {
    "collapsed": false
   },
   "outputs": [
    {
     "data": {
      "text/plain": [
       "[1, 1, 5, 5, 6, 6, 2, 2, 3, 3, 4, 7, 7, 8, 8, 9, 9]"
      ]
     },
     "execution_count": 1,
     "metadata": {},
     "output_type": "execute_result"
    }
   ],
   "source": [
    "A=[1,1,5,5,6,6,2,2,3,3,4,7,7,8,8,9,9]\n",
    "A"
   ]
  },
  {
   "cell_type": "code",
   "execution_count": 4,
   "metadata": {
    "collapsed": false
   },
   "outputs": [],
   "source": [
    "A=[1,1,5,5,6,6,2,2,3,3,4,7,7,8,8,9,9]\n",
    "def solution(A):\n",
    "    # write your code in Python 3.6\n",
    "    unique_A=list(set(A))\n",
    "    A.sort()\n",
    "    \n",
    "    #print (unique_A, A)\n",
    "    for unique in unique_A:\n",
    "        count=0\n",
    "        for num in A:\n",
    "            if num==unique:\n",
    "                count=count+1\n",
    "                \n",
    "            else:\n",
    "                A=A[count:]\n",
    "                break\n",
    "        #print (unique, A, count)\n",
    "        if count%2!=0:\n",
    "            answer=unique\n",
    "            break            \n",
    "    return answer\n",
    "    \n"
   ]
  },
  {
   "cell_type": "code",
   "execution_count": 5,
   "metadata": {
    "collapsed": false
   },
   "outputs": [
    {
     "data": {
      "text/plain": [
       "4"
      ]
     },
     "execution_count": 5,
     "metadata": {},
     "output_type": "execute_result"
    }
   ],
   "source": [
    "solution(A)"
   ]
  },
  {
   "cell_type": "code",
   "execution_count": null,
   "metadata": {
    "collapsed": false
   },
   "outputs": [],
   "source": [
    "a=list(range(1000000))\n",
    "b=a[:-2]\n",
    "c=a+b\n",
    "solution(c)\n"
   ]
  },
  {
   "cell_type": "code",
   "execution_count": null,
   "metadata": {
    "collapsed": true
   },
   "outputs": [],
   "source": []
  }
 ],
 "metadata": {
  "kernelspec": {
   "display_name": "Python 3",
   "language": "python",
   "name": "python3"
  },
  "language_info": {
   "codemirror_mode": {
    "name": "ipython",
    "version": 3
   },
   "file_extension": ".py",
   "mimetype": "text/x-python",
   "name": "python",
   "nbconvert_exporter": "python",
   "pygments_lexer": "ipython3",
   "version": "3.6.0"
  }
 },
 "nbformat": 4,
 "nbformat_minor": 2
}
