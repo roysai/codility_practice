{
 "cells": [
  {
   "cell_type": "code",
   "execution_count": 83,
   "metadata": {
    "collapsed": true
   },
   "outputs": [],
   "source": [
    "A=[4]*10+[0]*9+[4]"
   ]
  },
  {
   "cell_type": "code",
   "execution_count": 84,
   "metadata": {
    "collapsed": false
   },
   "outputs": [],
   "source": [
    "def find_leader(A):\n",
    "    counter=1\n",
    "    candidate=A[0]\n",
    "    m=len(A)\n",
    "    for i in range (1, m):\n",
    "        if counter==0:\n",
    "            candidate=A[i]\n",
    "            counter=1\n",
    "        elif A[i]==candidate:\n",
    "            counter+=1\n",
    "        elif A[i]!=candidate:\n",
    "            counter-=1\n",
    "       \n",
    "    return candidate\n",
    "        \n",
    "        \n",
    "\n",
    "def solution (A):\n",
    "    m=len(A)\n",
    "    leader=find_leader(A)\n",
    "    leader_count=0\n",
    "    for i in A:\n",
    "        if i==leader:\n",
    "            leader_count+=1\n",
    "    \n",
    "    equileader=[]\n",
    "    subleader_count=0\n",
    "    \n",
    "    for i, num in enumerate(A):\n",
    "        print (A[:i+1], A[i+1:] )\n",
    "        if num==leader:\n",
    "            subleader_count+=1\n",
    "            leader_count-=1\n",
    "                        \n",
    "        if subleader_count>(i+1)/2.0 and leader_count>(m-i-1)/2.0:\n",
    "            equileader.append(i)\n",
    "        print (subleader_count, (i+1)/2.0, leader_count, m, i, (m-i-1)/2.0)\n",
    "        print (subleader_count, i+1, equileader, '\\n')\n",
    "            \n",
    "    return len(equileader)\n",
    "        \n",
    "    \n",
    "        "
   ]
  },
  {
   "cell_type": "code",
   "execution_count": 85,
   "metadata": {
    "collapsed": false,
    "scrolled": false
   },
   "outputs": [
    {
     "name": "stdout",
     "output_type": "stream",
     "text": [
      "[4] [4, 4, 4, 4, 4, 4, 4, 4, 4, 0, 0, 0, 0, 0, 0, 0, 0, 0, 4]\n",
      "1 0.5 10 20 0 9.5\n",
      "1 1 [0] \n",
      "\n",
      "[4, 4] [4, 4, 4, 4, 4, 4, 4, 4, 0, 0, 0, 0, 0, 0, 0, 0, 0, 4]\n",
      "2 1.0 9 20 1 9.0\n",
      "2 2 [0] \n",
      "\n",
      "[4, 4, 4] [4, 4, 4, 4, 4, 4, 4, 0, 0, 0, 0, 0, 0, 0, 0, 0, 4]\n",
      "3 1.5 8 20 2 8.5\n",
      "3 3 [0] \n",
      "\n",
      "[4, 4, 4, 4] [4, 4, 4, 4, 4, 4, 0, 0, 0, 0, 0, 0, 0, 0, 0, 4]\n",
      "4 2.0 7 20 3 8.0\n",
      "4 4 [0] \n",
      "\n",
      "[4, 4, 4, 4, 4] [4, 4, 4, 4, 4, 0, 0, 0, 0, 0, 0, 0, 0, 0, 4]\n",
      "5 2.5 6 20 4 7.5\n",
      "5 5 [0] \n",
      "\n",
      "[4, 4, 4, 4, 4, 4] [4, 4, 4, 4, 0, 0, 0, 0, 0, 0, 0, 0, 0, 4]\n",
      "6 3.0 5 20 5 7.0\n",
      "6 6 [0] \n",
      "\n",
      "[4, 4, 4, 4, 4, 4, 4] [4, 4, 4, 0, 0, 0, 0, 0, 0, 0, 0, 0, 4]\n",
      "7 3.5 4 20 6 6.5\n",
      "7 7 [0] \n",
      "\n",
      "[4, 4, 4, 4, 4, 4, 4, 4] [4, 4, 0, 0, 0, 0, 0, 0, 0, 0, 0, 4]\n",
      "8 4.0 3 20 7 6.0\n",
      "8 8 [0] \n",
      "\n",
      "[4, 4, 4, 4, 4, 4, 4, 4, 4] [4, 0, 0, 0, 0, 0, 0, 0, 0, 0, 4]\n",
      "9 4.5 2 20 8 5.5\n",
      "9 9 [0] \n",
      "\n",
      "[4, 4, 4, 4, 4, 4, 4, 4, 4, 4] [0, 0, 0, 0, 0, 0, 0, 0, 0, 4]\n",
      "10 5.0 1 20 9 5.0\n",
      "10 10 [0] \n",
      "\n",
      "[4, 4, 4, 4, 4, 4, 4, 4, 4, 4, 0] [0, 0, 0, 0, 0, 0, 0, 0, 4]\n",
      "10 5.5 1 20 10 4.5\n",
      "10 11 [0] \n",
      "\n",
      "[4, 4, 4, 4, 4, 4, 4, 4, 4, 4, 0, 0] [0, 0, 0, 0, 0, 0, 0, 4]\n",
      "10 6.0 1 20 11 4.0\n",
      "10 12 [0] \n",
      "\n",
      "[4, 4, 4, 4, 4, 4, 4, 4, 4, 4, 0, 0, 0] [0, 0, 0, 0, 0, 0, 4]\n",
      "10 6.5 1 20 12 3.5\n",
      "10 13 [0] \n",
      "\n",
      "[4, 4, 4, 4, 4, 4, 4, 4, 4, 4, 0, 0, 0, 0] [0, 0, 0, 0, 0, 4]\n",
      "10 7.0 1 20 13 3.0\n",
      "10 14 [0] \n",
      "\n",
      "[4, 4, 4, 4, 4, 4, 4, 4, 4, 4, 0, 0, 0, 0, 0] [0, 0, 0, 0, 4]\n",
      "10 7.5 1 20 14 2.5\n",
      "10 15 [0] \n",
      "\n",
      "[4, 4, 4, 4, 4, 4, 4, 4, 4, 4, 0, 0, 0, 0, 0, 0] [0, 0, 0, 4]\n",
      "10 8.0 1 20 15 2.0\n",
      "10 16 [0] \n",
      "\n",
      "[4, 4, 4, 4, 4, 4, 4, 4, 4, 4, 0, 0, 0, 0, 0, 0, 0] [0, 0, 4]\n",
      "10 8.5 1 20 16 1.5\n",
      "10 17 [0] \n",
      "\n",
      "[4, 4, 4, 4, 4, 4, 4, 4, 4, 4, 0, 0, 0, 0, 0, 0, 0, 0] [0, 4]\n",
      "10 9.0 1 20 17 1.0\n",
      "10 18 [0] \n",
      "\n",
      "[4, 4, 4, 4, 4, 4, 4, 4, 4, 4, 0, 0, 0, 0, 0, 0, 0, 0, 0] [4]\n",
      "10 9.5 1 20 18 0.5\n",
      "10 19 [0, 18] \n",
      "\n",
      "[4, 4, 4, 4, 4, 4, 4, 4, 4, 4, 0, 0, 0, 0, 0, 0, 0, 0, 0, 4] []\n",
      "11 10.0 0 20 19 0.0\n",
      "11 20 [0, 18] \n",
      "\n"
     ]
    },
    {
     "data": {
      "text/plain": [
       "2"
      ]
     },
     "execution_count": 85,
     "metadata": {},
     "output_type": "execute_result"
    }
   ],
   "source": [
    "solution (A)"
   ]
  },
  {
   "cell_type": "code",
   "execution_count": null,
   "metadata": {
    "collapsed": true
   },
   "outputs": [],
   "source": []
  }
 ],
 "metadata": {
  "kernelspec": {
   "display_name": "Python 3",
   "language": "python",
   "name": "python3"
  },
  "language_info": {
   "codemirror_mode": {
    "name": "ipython",
    "version": 3
   },
   "file_extension": ".py",
   "mimetype": "text/x-python",
   "name": "python",
   "nbconvert_exporter": "python",
   "pygments_lexer": "ipython3",
   "version": "3.6.0"
  }
 },
 "nbformat": 4,
 "nbformat_minor": 2
}
