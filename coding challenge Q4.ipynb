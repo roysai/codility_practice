{
 "cells": [
  {
   "cell_type": "code",
   "execution_count": 12,
   "metadata": {
    "collapsed": true
   },
   "outputs": [],
   "source": [
    "def solution (A):\n",
    "    m=len(A)\n",
    "    count=0\n",
    "    \n",
    "    for i in range (m):\n",
    "        target=A[i]\n",
    "        \n",
    "        for j in A[i+1:]:\n",
    "            if j==target:\n",
    "                count+=1\n",
    "            \n",
    "    \n",
    "    return min(count, 1000000000)"
   ]
  },
  {
   "cell_type": "code",
   "execution_count": 94,
   "metadata": {
    "collapsed": true
   },
   "outputs": [],
   "source": [
    "A=[-1,-1,-1,-1]"
   ]
  },
  {
   "cell_type": "code",
   "execution_count": 95,
   "metadata": {
    "collapsed": false
   },
   "outputs": [
    {
     "data": {
      "text/plain": [
       "6"
      ]
     },
     "execution_count": 95,
     "metadata": {},
     "output_type": "execute_result"
    }
   ],
   "source": [
    "solution (A)"
   ]
  },
  {
   "cell_type": "code",
   "execution_count": 91,
   "metadata": {
    "collapsed": true
   },
   "outputs": [],
   "source": [
    "def mod_fac(length):\n",
    "    count=0\n",
    "    for i in range (length, 1, -1):\n",
    "       \n",
    "        count+=i-1\n",
    "    return count\n",
    "def solution2(A):\n",
    "    a=sorted(A)\n",
    "    count=0\n",
    "    iteration=0\n",
    "    i=0\n",
    "    target=a[0]\n",
    "    length=0\n",
    "    print (a)\n",
    "    while i<len(a):\n",
    "        print (target, a[i], length, count)\n",
    "        if a[i]==target:\n",
    "            length+=1\n",
    "        else:\n",
    "            \n",
    "            count+=mod_fac(length)\n",
    "            \n",
    "            target=a[i]\n",
    "            length=0\n",
    "        i+=1\n",
    "        \n",
    "    count+=mod_fac(length)\n",
    "    return count\n",
    "        \n",
    "    "
   ]
  },
  {
   "cell_type": "code",
   "execution_count": 88,
   "metadata": {
    "collapsed": false
   },
   "outputs": [
    {
     "name": "stdout",
     "output_type": "stream",
     "text": [
      "[3, 3, 3, 5, 5, 6]\n",
      "3 3 0 0\n",
      "3 3 1 0\n",
      "3 3 2 0\n",
      "3 5 3 0\n",
      "5 5 0 3\n",
      "5 6 1 3\n"
     ]
    },
    {
     "data": {
      "text/plain": [
       "3"
      ]
     },
     "execution_count": 88,
     "metadata": {},
     "output_type": "execute_result"
    }
   ],
   "source": [
    "solution2(A)"
   ]
  },
  {
   "cell_type": "code",
   "execution_count": 86,
   "metadata": {
    "collapsed": false
   },
   "outputs": [
    {
     "name": "stdout",
     "output_type": "stream",
     "text": [
      "0.0\n",
      "[3, 3, 3, 5, 5, 6]\n",
      "3 3 0 0\n",
      "3 3 1 0\n",
      "3 3 2 0\n",
      "3 5 3 0\n",
      "5 5 0 3\n",
      "5 6 1 3\n",
      "0.00098419189453125\n"
     ]
    }
   ],
   "source": [
    "import time\n",
    "start=time.time()\n",
    "solution(A)\n",
    "print (time.time()-start)\n",
    "\n",
    "start=time.time()\n",
    "solution2(A)\n",
    "print (time.time()-start)"
   ]
  },
  {
   "cell_type": "code",
   "execution_count": null,
   "metadata": {
    "collapsed": true
   },
   "outputs": [],
   "source": []
  }
 ],
 "metadata": {
  "kernelspec": {
   "display_name": "Python 3",
   "language": "python",
   "name": "python3"
  },
  "language_info": {
   "codemirror_mode": {
    "name": "ipython",
    "version": 3
   },
   "file_extension": ".py",
   "mimetype": "text/x-python",
   "name": "python",
   "nbconvert_exporter": "python",
   "pygments_lexer": "ipython3",
   "version": "3.6.0"
  }
 },
 "nbformat": 4,
 "nbformat_minor": 2
}
