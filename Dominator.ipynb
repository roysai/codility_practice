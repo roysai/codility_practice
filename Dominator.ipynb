{
 "cells": [
  {
   "cell_type": "code",
   "execution_count": 8,
   "metadata": {
    "collapsed": true
   },
   "outputs": [],
   "source": [
    "A=[3,4,3,2,3,1,3,3, 2, 1, 2, 4]"
   ]
  },
  {
   "cell_type": "code",
   "execution_count": 40,
   "metadata": {
    "collapsed": true
   },
   "outputs": [],
   "source": [
    "def find_leader(A):\n",
    "    count=1\n",
    "    candidate=A[0]\n",
    "    for num in A[1:]:\n",
    "        print (candidate, count, num)\n",
    "        if count==0:\n",
    "            candidate=num\n",
    "            count+=1\n",
    "        elif candidate==num:\n",
    "            count+=1\n",
    "        elif candidate!=num:\n",
    "            count-=1\n",
    "    \n",
    "    return candidate\n",
    "\n",
    "def solution (A):\n",
    "    if len(A)==0:\n",
    "        return -1\n",
    "    leader=find_leader(A)\n",
    "    dominator=[]\n",
    "    \n",
    "    for i, num in enumerate(A):\n",
    "        \n",
    "        if num==leader:\n",
    "            dominator.append(i)\n",
    "   \n",
    "    if len(dominator)<=len(A)/2:\n",
    "        return -1\n",
    "    else:\n",
    "        return dominator[0]\n",
    "    \n",
    "            \n",
    "            "
   ]
  },
  {
   "cell_type": "code",
   "execution_count": 42,
   "metadata": {
    "collapsed": false
   },
   "outputs": [
    {
     "name": "stdout",
     "output_type": "stream",
     "text": [
      "1 1 2\n",
      "1 0 1\n"
     ]
    },
    {
     "data": {
      "text/plain": [
       "0"
      ]
     },
     "execution_count": 42,
     "metadata": {},
     "output_type": "execute_result"
    }
   ],
   "source": [
    "solution([1,2,1])"
   ]
  },
  {
   "cell_type": "code",
   "execution_count": null,
   "metadata": {
    "collapsed": true
   },
   "outputs": [],
   "source": []
  }
 ],
 "metadata": {
  "kernelspec": {
   "display_name": "Python 3",
   "language": "python",
   "name": "python3"
  },
  "language_info": {
   "codemirror_mode": {
    "name": "ipython",
    "version": 3
   },
   "file_extension": ".py",
   "mimetype": "text/x-python",
   "name": "python",
   "nbconvert_exporter": "python",
   "pygments_lexer": "ipython3",
   "version": "3.6.0"
  }
 },
 "nbformat": 4,
 "nbformat_minor": 2
}
