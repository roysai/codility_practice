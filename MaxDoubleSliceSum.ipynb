{
 "cells": [
  {
   "cell_type": "code",
   "execution_count": 168,
   "metadata": {
    "collapsed": false
   },
   "outputs": [],
   "source": [
    "def solution (A):\n",
    "    max_sum_ending_here=[0]\n",
    "    max_sum_starting_here=[0]*len(A)\n",
    "    max_sum_starting_here\n",
    "    \n",
    "    max_sum=0\n",
    "    for a in A[1:-1]:\n",
    "        max_sum_ending_here.append(max(max_sum, max_sum_ending_here[-1]+a))\n",
    "        #print (max_sum_ending_here)\n",
    "    max_sum_ending_here[1:]\n",
    "    \n",
    "    for i in reversed(range(len(A)-1)):\n",
    "        max_sum_starting_here[i]=(max(max_sum, max_sum_starting_here[i+1]+A[i]))\n",
    "    max_sum_starting_here[1:]    \n",
    "    #print (max_sum_ending_here)\n",
    "    #print (max_sum_starting_here)\n",
    "    max_double_slice=0\n",
    "    for i in range (1, len(A)-1):\n",
    "        max_double_slice=max(max_double_slice, max_sum_starting_here[i+1]+max_sum_ending_here[i-1])\n",
    "        #max_double_slice.append(max_sum_starting_here[i+1]+max_sum_ending_here[i-1])\n",
    "    return max_double_slice\n"
   ]
  },
  {
   "cell_type": "code",
   "execution_count": 169,
   "metadata": {
    "collapsed": true
   },
   "outputs": [],
   "source": [
    "A=[3,2,6,-1,4,5,-1,2]"
   ]
  },
  {
   "cell_type": "code",
   "execution_count": 170,
   "metadata": {
    "collapsed": false
   },
   "outputs": [
    {
     "name": "stdout",
     "output_type": "stream",
     "text": [
      "[0, 2, 8, 7, 11, 16, 15]\n",
      "[19, 16, 14, 8, 9, 5, 0, 0]\n"
     ]
    },
    {
     "data": {
      "text/plain": [
       "17"
      ]
     },
     "execution_count": 170,
     "metadata": {},
     "output_type": "execute_result"
    }
   ],
   "source": [
    "solution(A)"
   ]
  },
  {
   "cell_type": "code",
   "execution_count": null,
   "metadata": {
    "collapsed": false
   },
   "outputs": [],
   "source": []
  },
  {
   "cell_type": "code",
   "execution_count": null,
   "metadata": {
    "collapsed": true
   },
   "outputs": [],
   "source": []
  }
 ],
 "metadata": {
  "kernelspec": {
   "display_name": "Python 3",
   "language": "python",
   "name": "python3"
  },
  "language_info": {
   "codemirror_mode": {
    "name": "ipython",
    "version": 3
   },
   "file_extension": ".py",
   "mimetype": "text/x-python",
   "name": "python",
   "nbconvert_exporter": "python",
   "pygments_lexer": "ipython3",
   "version": "3.6.0"
  }
 },
 "nbformat": 4,
 "nbformat_minor": 2
}
