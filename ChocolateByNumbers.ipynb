{
 "cells": [
  {
   "cell_type": "code",
   "execution_count": 122,
   "metadata": {
    "collapsed": false
   },
   "outputs": [],
   "source": [
    "def solution(N, M):\n",
    "    wrapper=[0]*N\n",
    "    i=0\n",
    "    counter=0\n",
    "    while wrapper[i]!=1:\n",
    "        #print (i)\n",
    "        wrapper[i]=1\n",
    "        i+=M\n",
    "        counter+=1\n",
    "        if i>=N:\n",
    "            i=i%N\n",
    "            \n",
    "    \n",
    "    return counter\n",
    "            \n",
    "\n",
    "def solution_2(N, M):\n",
    "    START=[]\n",
    "    start=0\n",
    "    count=0\n",
    "    while True:\n",
    "        count+=(N-start)//M+1\n",
    "        #print (start, count)\n",
    "        start=(M-N%M+start)%M\n",
    "        if start==0:\n",
    "            return count-1\n",
    "\n",
    "        \n",
    "        \n",
    "def gcd(a, b):\n",
    "    if a%b==0:\n",
    "        return b\n",
    "    else:\n",
    "        return gcd(b, a%b)\n",
    "def lcm(a, b):\n",
    "    return ((a*b)/gcd(a,b))\n",
    "def solution_3(N, M):\n",
    "    meet=lcm(N,M)\n",
    "    count=meet/M\n",
    "    return count\n",
    "        \n",
    "    \n",
    "    "
   ]
  },
  {
   "cell_type": "code",
   "execution_count": 123,
   "metadata": {
    "collapsed": false
   },
   "outputs": [
    {
     "data": {
      "text/plain": [
       "89"
      ]
     },
     "execution_count": 123,
     "metadata": {},
     "output_type": "execute_result"
    }
   ],
   "source": [
    "N=89\n",
    "M=4\n",
    "solution(N, M)"
   ]
  },
  {
   "cell_type": "code",
   "execution_count": 124,
   "metadata": {
    "collapsed": false
   },
   "outputs": [
    {
     "data": {
      "text/plain": [
       "89"
      ]
     },
     "execution_count": 124,
     "metadata": {},
     "output_type": "execute_result"
    }
   ],
   "source": [
    "solution_2(N, M)"
   ]
  },
  {
   "cell_type": "code",
   "execution_count": 125,
   "metadata": {
    "collapsed": false
   },
   "outputs": [
    {
     "data": {
      "text/plain": [
       "89.0"
      ]
     },
     "execution_count": 125,
     "metadata": {},
     "output_type": "execute_result"
    }
   ],
   "source": [
    "solution_3(N,M)"
   ]
  },
  {
   "cell_type": "code",
   "execution_count": null,
   "metadata": {
    "collapsed": true
   },
   "outputs": [],
   "source": []
  },
  {
   "cell_type": "code",
   "execution_count": null,
   "metadata": {
    "collapsed": true
   },
   "outputs": [],
   "source": []
  }
 ],
 "metadata": {
  "kernelspec": {
   "display_name": "Python 3",
   "language": "python",
   "name": "python3"
  },
  "language_info": {
   "codemirror_mode": {
    "name": "ipython",
    "version": 3
   },
   "file_extension": ".py",
   "mimetype": "text/x-python",
   "name": "python",
   "nbconvert_exporter": "python",
   "pygments_lexer": "ipython3",
   "version": "3.6.0"
  }
 },
 "nbformat": 4,
 "nbformat_minor": 2
}
