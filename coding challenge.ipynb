{
 "cells": [
  {
   "cell_type": "code",
   "execution_count": 3,
   "metadata": {
    "collapsed": true
   },
   "outputs": [],
   "source": [
    "def solution (N):\n",
    "    lower_ten=N//10\n",
    "    answer=(lower_ten+1)*10\n",
    "    return answer\n",
    "\n"
   ]
  },
  {
   "cell_type": "code",
   "execution_count": 9,
   "metadata": {
    "collapsed": false
   },
   "outputs": [
    {
     "data": {
      "text/plain": [
       "10"
      ]
     },
     "execution_count": 9,
     "metadata": {},
     "output_type": "execute_result"
    }
   ],
   "source": [
    "solution (1)"
   ]
  },
  {
   "cell_type": "code",
   "execution_count": 13,
   "metadata": {
    "collapsed": false
   },
   "outputs": [
    {
     "ename": "TypeError",
     "evalue": "remove() takes exactly one argument (2 given)",
     "output_type": "error",
     "traceback": [
      "\u001b[0;31m---------------------------------------------------------------------------\u001b[0m",
      "\u001b[0;31mTypeError\u001b[0m                                 Traceback (most recent call last)",
      "\u001b[0;32m<ipython-input-13-06fb39b13534>\u001b[0m in \u001b[0;36m<module>\u001b[0;34m()\u001b[0m\n\u001b[1;32m      1\u001b[0m \u001b[0ma\u001b[0m\u001b[1;33m=\u001b[0m\u001b[0mlist\u001b[0m\u001b[1;33m(\u001b[0m\u001b[0mrange\u001b[0m \u001b[1;33m(\u001b[0m\u001b[1;36m10\u001b[0m\u001b[1;33m)\u001b[0m\u001b[1;33m)\u001b[0m\u001b[1;33m\u001b[0m\u001b[0m\n\u001b[0;32m----> 2\u001b[0;31m \u001b[0ma\u001b[0m\u001b[1;33m.\u001b[0m\u001b[0mremove\u001b[0m\u001b[1;33m(\u001b[0m\u001b[1;36m2\u001b[0m\u001b[1;33m,\u001b[0m\u001b[1;36m3\u001b[0m\u001b[1;33m)\u001b[0m\u001b[1;33m\u001b[0m\u001b[0m\n\u001b[0m",
      "\u001b[0;31mTypeError\u001b[0m: remove() takes exactly one argument (2 given)"
     ]
    }
   ],
   "source": []
  },
  {
   "cell_type": "code",
   "execution_count": 94,
   "metadata": {
    "collapsed": true
   },
   "outputs": [],
   "source": [
    "def k_fold(indices, K):\n",
    "    m=len(indices)\n",
    "    \n",
    "    batch_size=m//K\n",
    "    remainder=int(m%K)\n",
    "    \n",
    "    idx=list(range(K))\n",
    "\n",
    "    answer=[]\n",
    "    for i in idx:\n",
    "        #print (i, i != idx[-1], i*batch_size, (i+1)*batch_size)\n",
    "        if i != idx[-1] and remainder>1:\n",
    "            #print (indices[-remainder:-remainder+1])\n",
    "            test=indices[i*batch_size:(i+1)*batch_size]+indices[-remainder:-remainder+1]\n",
    "            train=indices[:i*batch_size]+indices[(i+1)*batch_size:-remainder]+indices[-remainder+1:]\n",
    "            remainder-=1            \n",
    "            \n",
    "        \n",
    "        elif i != idx[-1] and remainder==1:\n",
    "            test=indices[i*batch_size:(i+1)*batch_size]+indices[-remainder:]\n",
    "            remainder-=1            \n",
    "            train=indices[:i*batch_size]+indices[(i+1)*batch_size:-1]\n",
    "        \n",
    "        \n",
    "        else:\n",
    "            test=indices[i*batch_size:(i+1)*batch_size]\n",
    "            train=indices[:i*batch_size]+indices[(i+1)*batch_size:]\n",
    "            \n",
    "               \n",
    "        answer.append(train)\n",
    "        answer.append(test)\n",
    "        #print (train, test , remainder, '\\n')    \n",
    "    return answer"
   ]
  },
  {
   "cell_type": "code",
   "execution_count": 97,
   "metadata": {
    "collapsed": false
   },
   "outputs": [
    {
     "data": {
      "text/plain": [
       "[[2], [1, 3], [1, 3], [2]]"
      ]
     },
     "execution_count": 97,
     "metadata": {},
     "output_type": "execute_result"
    }
   ],
   "source": [
    "indices=[1,2,3]\n",
    "K=2\n",
    "k_fold(indices, K)"
   ]
  },
  {
   "cell_type": "code",
   "execution_count": 67,
   "metadata": {
    "collapsed": false
   },
   "outputs": [
    {
     "data": {
      "text/plain": [
       "2"
      ]
     },
     "execution_count": 67,
     "metadata": {},
     "output_type": "execute_result"
    }
   ],
   "source": [
    "10%4"
   ]
  },
  {
   "cell_type": "code",
   "execution_count": null,
   "metadata": {
    "collapsed": true
   },
   "outputs": [],
   "source": []
  }
 ],
 "metadata": {
  "kernelspec": {
   "display_name": "Python 3",
   "language": "python",
   "name": "python3"
  },
  "language_info": {
   "codemirror_mode": {
    "name": "ipython",
    "version": 3
   },
   "file_extension": ".py",
   "mimetype": "text/x-python",
   "name": "python",
   "nbconvert_exporter": "python",
   "pygments_lexer": "ipython3",
   "version": "3.6.0"
  }
 },
 "nbformat": 4,
 "nbformat_minor": 2
}
